{
 "cells": [],
 "metadata": {
  "environment": {
   "name": "tf2-gpu.2-6.m80",
   "type": "gcloud",
   "uri": "gcr.io/deeplearning-platform-release/tf2-gpu.2-6:m80"
  }
 },
 "nbformat": 4,
 "nbformat_minor": 5
}

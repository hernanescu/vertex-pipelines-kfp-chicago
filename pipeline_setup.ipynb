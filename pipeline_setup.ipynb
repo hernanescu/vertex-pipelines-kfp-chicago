{
 "cells": [
  {
   "cell_type": "markdown",
   "id": "cabc30f7-950a-4f6a-9e9f-f7288e56fb5c",
   "metadata": {},
   "source": [
    "# GCP Resources Setup"
   ]
  },
  {
   "cell_type": "code",
   "execution_count": 1,
   "id": "9c86100e-0e9e-4338-989d-0f229e4ebe80",
   "metadata": {},
   "outputs": [
    {
     "name": "stdout",
     "output_type": "stream",
     "text": [
      "Project ID:  vertex-testing-327520\n",
      "env: PATH=/usr/local/cuda/bin:/opt/conda/bin:/opt/conda/condabin:/usr/local/bin:/usr/bin:/bin:/usr/local/games:/usr/games:/home/jupyter/.local/bin\n"
     ]
    }
   ],
   "source": [
    "import matplotlib.pyplot as plt\n",
    "import pandas as pd\n",
    "\n",
    "import kfp\n",
    "\n",
    "from kfp.v2 import compiler, dsl\n",
    "from kfp.v2.dsl import pipeline, component, Artifact, Dataset, Input, Metrics, Model, Output, InputPath, OutputPath, ClassificationMetrics\n",
    "from typing import NamedTuple\n",
    "\n",
    "from google.cloud import aiplatform\n",
    "\n",
    "# We'll use this namespace for metadata querying\n",
    "from google.cloud import aiplatform_v1\n",
    "\n",
    "from google.cloud.aiplatform import pipeline_jobs\n",
    "from google_cloud_pipeline_components import aiplatform as gcc_aip\n",
    "from google.cloud import bigquery\n",
    "\n",
    "import os\n",
    "PROJECT_ID = \"\"\n",
    "\n",
    "# Get your Google Cloud project ID from gcloud\n",
    "if not os.getenv(\"IS_TESTING\"):\n",
    "    shell_output=!gcloud config list --format 'value(core.project)' 2>/dev/null\n",
    "    PROJECT_ID = shell_output[0]\n",
    "    print(\"Project ID: \", PROJECT_ID)\n",
    "    \n",
    "    \n",
    "PATH=%env PATH\n",
    "%env PATH={PATH}:/home/jupyter/.local/bin\n",
    "REGION=\"us-central1\"\n",
    "\n",
    "from datetime import datetime\n",
    "\n",
    "TIMESTAMP =datetime.now().strftime(\"%Y%m%d%H%M%S\")\n"
   ]
  },
  {
   "cell_type": "markdown",
   "id": "d874cf39-cc2c-4767-a5c9-475a0d644a92",
   "metadata": {
    "jp-MarkdownHeadingCollapsed": true,
    "tags": []
   },
   "source": [
    "## BigQuery - Database (Raw stage)"
   ]
  },
  {
   "cell_type": "markdown",
   "id": "e0333a1e-24e8-46e6-b99a-327f840fee98",
   "metadata": {},
   "source": [
    "Necesitamos crear dos datasets en BigQuery: uno que oficiará de histórico, y otro que representará el momento actual (no va a tener variable target). Para eso usaremos el gcloud cli, junto con algunas variables de Python. \n",
    "\n",
    "**Importante**: Este código tiene que correrse sólo una vez, es para crear las bases necesarias que se usarán a lo largo del pipeline."
   ]
  },
  {
   "cell_type": "markdown",
   "id": "6cd435d5-5669-4c61-b6bf-2ec8b5cb17c7",
   "metadata": {},
   "source": [
    "We need to create two datasets in BigQuery: one will be our historical data, and the other one will simulate the current time (the target variable will be missing). We'll use the gcloud cli, along with some Python variables.\n",
    "\n",
    "**Important**: This code needs to run only once to set up the necessary datasets to be used through the entire pipeline."
   ]
  },
  {
   "cell_type": "code",
   "execution_count": 20,
   "id": "6bdbfb06-728c-4996-9ea2-cabf3c603037",
   "metadata": {},
   "outputs": [],
   "source": [
    "BQ_DATASET_HISTORIC_NAME = 'chicago_taxi_historic_test'\n",
    "BQ_DATASET_CURRENT_NAME = 'chicago_taxi_current_test'\n",
    "\n",
    "BQ_HISTORIC_RAW = 'raw'\n",
    "BQ_CURRENT_RAW = 'raw'\n",
    "\n",
    "BQ_LOCATION = 'US'"
   ]
  },
  {
   "cell_type": "code",
   "execution_count": 3,
   "id": "c99a9501-e3b4-4bd5-a93f-48646a5be31c",
   "metadata": {},
   "outputs": [
    {
     "name": "stdout",
     "output_type": "stream",
     "text": [
      "Dataset 'vertex-testing-327520:chicago_taxi_historic_test' successfully created.\n"
     ]
    }
   ],
   "source": [
    "# !bq --location=US mk -d \\\n",
    "# $PROJECT_ID:$BQ_DATASET_HISTORIC_NAME"
   ]
  },
  {
   "cell_type": "code",
   "execution_count": 4,
   "id": "8507fa20-92e5-4f37-9819-abbac7dc30ee",
   "metadata": {},
   "outputs": [
    {
     "name": "stdout",
     "output_type": "stream",
     "text": [
      "Dataset 'vertex-testing-327520:chicago_taxi_current_test' successfully created.\n"
     ]
    }
   ],
   "source": [
    "# !bq --location=US mk -d \\\n",
    "# $PROJECT_ID:$BQ_DATASET_CURRENT_NAME"
   ]
  },
  {
   "cell_type": "markdown",
   "id": "46f5236d-434b-4546-9357-89acf31f5141",
   "metadata": {},
   "source": [
    "Se preparan dos funciones para automatizar y parametrizar la búsqueda de variables de acuerdo a tiempos y volúmenes deseados."
   ]
  },
  {
   "cell_type": "markdown",
   "id": "ac677955-336a-46f8-8cba-d023eece9ef2",
   "metadata": {},
   "source": [
    "We create two functions in order to automate and parametrize variables according to times and size needed."
   ]
  },
  {
   "cell_type": "code",
   "execution_count": 21,
   "id": "46488da4-cbba-4e33-8326-fbbed6cadae1",
   "metadata": {},
   "outputs": [],
   "source": [
    "import datetime as dt\n",
    "\n",
    "def get_year_and_month():\n",
    "    previous_month = (dt.date.today().replace(day=1) - dt.timedelta(days=33)).month\n",
    "    year = dt.date.today().year\n",
    "    \n",
    "    if previous_month == 12:\n",
    "        year = year-1\n",
    "    else:\n",
    "        year\n",
    "    return year, previous_month"
   ]
  },
  {
   "cell_type": "code",
   "execution_count": 22,
   "id": "2dd5c5c5-d161-4681-aa20-327b6edc666d",
   "metadata": {},
   "outputs": [],
   "source": [
    "def get_year_and_month_hist(current_year, current_month):\n",
    "    month_hist = current_month - 1\n",
    "    if month_hist == 0:\n",
    "        year_hist = current_year -1\n",
    "        month_hist = 12\n",
    "    else:\n",
    "        year_hist = current_year\n",
    "    \n",
    "    return year_hist, month_hist"
   ]
  },
  {
   "cell_type": "code",
   "execution_count": 23,
   "id": "69312c25-4efc-43b3-8ce3-a9f8da059499",
   "metadata": {},
   "outputs": [
    {
     "name": "stdout",
     "output_type": "stream",
     "text": [
      "current year:  2021\n",
      "current month:  12\n",
      "sample size:  100000\n"
     ]
    }
   ],
   "source": [
    "import datetime as dt\n",
    "SAMPLE_SIZE = 100000\n",
    "YEAR, MONTH = get_year_and_month()\n",
    "\n",
    "print('current year: ', YEAR)\n",
    "print('current month: ', MONTH)\n",
    "print('sample size: ', SAMPLE_SIZE)"
   ]
  },
  {
   "cell_type": "code",
   "execution_count": 24,
   "id": "c8a2d234-978a-4f42-8c11-d03198f4866c",
   "metadata": {},
   "outputs": [
    {
     "name": "stdout",
     "output_type": "stream",
     "text": [
      "past year:  2021\n",
      "past month:  11\n"
     ]
    }
   ],
   "source": [
    "HIST_YEAR, HIST_MONTH = get_year_and_month_hist(YEAR, MONTH)\n",
    "print('past year: ', HIST_YEAR)\n",
    "print('past month: ', HIST_MONTH)"
   ]
  },
  {
   "cell_type": "markdown",
   "id": "369a3525-c78c-424f-87e7-7026aa7aa88f",
   "metadata": {},
   "source": [
    "### Dataset actual - Current dataset"
   ]
  },
  {
   "cell_type": "markdown",
   "id": "da3102d8-2b9d-4e24-a7c2-36f8da2b11ce",
   "metadata": {},
   "source": [
    "Usamos una query de SQL para poblar la tabla."
   ]
  },
  {
   "cell_type": "markdown",
   "id": "effc1336-c92f-4472-96ac-5bb1eb194647",
   "metadata": {},
   "source": [
    "We use a SQL query to load the table."
   ]
  },
  {
   "cell_type": "code",
   "execution_count": 25,
   "id": "2f6fc18e-c8e1-4e43-9113-d5bedbc0e077",
   "metadata": {},
   "outputs": [],
   "source": [
    "current_sql_script = '''\n",
    "CREATE OR REPLACE TABLE `@PROJECT_ID.@DATASET.@TABLE` \n",
    "AS (\n",
    "    WITH\n",
    "      taxitrips AS (\n",
    "      SELECT\n",
    "        trip_start_timestamp,\n",
    "        trip_seconds,\n",
    "        trip_miles,\n",
    "        payment_type,\n",
    "        pickup_longitude,\n",
    "        pickup_latitude,\n",
    "        dropoff_longitude,\n",
    "        dropoff_latitude,\n",
    "        tips,\n",
    "        fare\n",
    "      FROM\n",
    "        `bigquery-public-data.chicago_taxi_trips.taxi_trips`\n",
    "      WHERE 1=1 \n",
    "      AND pickup_longitude IS NOT NULL\n",
    "      AND pickup_latitude IS NOT NULL\n",
    "      AND dropoff_longitude IS NOT NULL\n",
    "      AND dropoff_latitude IS NOT NULL\n",
    "      AND trip_miles > 0\n",
    "      AND trip_seconds > 0\n",
    "      AND fare > 0\n",
    "      AND EXTRACT(YEAR FROM trip_start_timestamp) = @YEAR\n",
    "      AND EXTRACT(MONTH FROM trip_start_timestamp) = @MONTH\n",
    "    )\n",
    "\n",
    "    SELECT\n",
    "      trip_start_timestamp,\n",
    "      EXTRACT(MONTH from trip_start_timestamp) as trip_month,\n",
    "      EXTRACT(DAY from trip_start_timestamp) as trip_day,\n",
    "      EXTRACT(DAYOFWEEK from trip_start_timestamp) as trip_day_of_week,\n",
    "      EXTRACT(HOUR from trip_start_timestamp) as trip_hour,\n",
    "      trip_seconds,\n",
    "      trip_miles,\n",
    "      payment_type,\n",
    "      ST_AsText(\n",
    "          ST_SnapToGrid(ST_GeogPoint(pickup_longitude, pickup_latitude), 0.1)\n",
    "      ) AS pickup_grid,\n",
    "      ST_AsText(\n",
    "          ST_SnapToGrid(ST_GeogPoint(dropoff_longitude, dropoff_latitude), 0.1)\n",
    "      ) AS dropoff_grid,\n",
    "      ST_Distance(\n",
    "          ST_GeogPoint(pickup_longitude, pickup_latitude), \n",
    "          ST_GeogPoint(dropoff_longitude, dropoff_latitude)\n",
    "      ) AS euclidean,\n",
    "      CONCAT(\n",
    "          ST_AsText(ST_SnapToGrid(ST_GeogPoint(pickup_longitude,\n",
    "              pickup_latitude), 0.1)), \n",
    "          ST_AsText(ST_SnapToGrid(ST_GeogPoint(dropoff_longitude,\n",
    "              dropoff_latitude), 0.1))\n",
    "      ) AS loc_cross,\n",
    "      IF((tips/fare >= 0.2), 1, 0) AS tip_bin,\n",
    "      IF(ABS(MOD(FARM_FINGERPRINT(STRING(trip_start_timestamp)), 10)) < 9, 'UNASSIGNED', 'TEST') AS data_split\n",
    "    FROM\n",
    "      taxitrips\n",
    "    LIMIT @LIMIT\n",
    ")\n",
    "'''"
   ]
  },
  {
   "cell_type": "code",
   "execution_count": 26,
   "id": "5b5e930e-8924-4230-8c7e-ada1da94f886",
   "metadata": {},
   "outputs": [],
   "source": [
    "current_sql_script = current_sql_script.replace(\n",
    "    '@PROJECT_ID', PROJECT_ID).replace(\n",
    "    '@DATASET', BQ_DATASET_CURRENT_NAME).replace(\n",
    "    '@TABLE', BQ_CURRENT_RAW).replace(\n",
    "    '@YEAR', str(YEAR)).replace(\n",
    "    '@LIMIT', str(SAMPLE_SIZE)).replace(\n",
    "    '@MONTH', str(MONTH))"
   ]
  },
  {
   "cell_type": "code",
   "execution_count": 27,
   "id": "31e812b3-c1e5-43e8-b104-b836e16bfd31",
   "metadata": {},
   "outputs": [],
   "source": [
    "bq_client = bigquery.Client(project=PROJECT_ID, location=BQ_LOCATION)\n",
    "job = bq_client.query(current_sql_script)\n",
    "_ = job.result()"
   ]
  },
  {
   "cell_type": "markdown",
   "id": "a947fb15-68b3-4df4-aaa6-70b263daf6db",
   "metadata": {},
   "source": [
    "### Dataset historico - Historic dataset"
   ]
  },
  {
   "cell_type": "code",
   "execution_count": 28,
   "id": "e0703445-9c4a-46d9-b1e8-983f2be54257",
   "metadata": {},
   "outputs": [],
   "source": [
    "historic_sql_script = '''\n",
    "CREATE OR REPLACE TABLE `@PROJECT_ID.@DATASET.@TABLE` \n",
    "AS (\n",
    "    WITH\n",
    "      taxitrips AS (\n",
    "      SELECT\n",
    "        trip_start_timestamp,\n",
    "        trip_seconds,\n",
    "        trip_miles,\n",
    "        payment_type,\n",
    "        pickup_longitude,\n",
    "        pickup_latitude,\n",
    "        dropoff_longitude,\n",
    "        dropoff_latitude,\n",
    "        tips,\n",
    "        fare\n",
    "      FROM\n",
    "        `bigquery-public-data.chicago_taxi_trips.taxi_trips`\n",
    "      WHERE 1=1 \n",
    "      AND pickup_longitude IS NOT NULL\n",
    "      AND pickup_latitude IS NOT NULL\n",
    "      AND dropoff_longitude IS NOT NULL\n",
    "      AND dropoff_latitude IS NOT NULL\n",
    "      AND trip_miles > 0\n",
    "      AND trip_seconds > 0\n",
    "      AND fare > 0\n",
    "      AND EXTRACT(YEAR FROM trip_start_timestamp) = @YEAR\n",
    "      AND EXTRACT(MONTH FROM trip_start_timestamp) = @MONTH\n",
    "    )\n",
    "\n",
    "    SELECT\n",
    "      trip_start_timestamp,\n",
    "      EXTRACT(MONTH from trip_start_timestamp) as trip_month,\n",
    "      EXTRACT(DAY from trip_start_timestamp) as trip_day,\n",
    "      EXTRACT(DAYOFWEEK from trip_start_timestamp) as trip_day_of_week,\n",
    "      EXTRACT(HOUR from trip_start_timestamp) as trip_hour,\n",
    "      trip_seconds,\n",
    "      trip_miles,\n",
    "      payment_type,\n",
    "      ST_AsText(\n",
    "          ST_SnapToGrid(ST_GeogPoint(pickup_longitude, pickup_latitude), 0.1)\n",
    "      ) AS pickup_grid,\n",
    "      ST_AsText(\n",
    "          ST_SnapToGrid(ST_GeogPoint(dropoff_longitude, dropoff_latitude), 0.1)\n",
    "      ) AS dropoff_grid,\n",
    "      ST_Distance(\n",
    "          ST_GeogPoint(pickup_longitude, pickup_latitude), \n",
    "          ST_GeogPoint(dropoff_longitude, dropoff_latitude)\n",
    "      ) AS euclidean,\n",
    "      CONCAT(\n",
    "          ST_AsText(ST_SnapToGrid(ST_GeogPoint(pickup_longitude,\n",
    "              pickup_latitude), 0.1)), \n",
    "          ST_AsText(ST_SnapToGrid(ST_GeogPoint(dropoff_longitude,\n",
    "              dropoff_latitude), 0.1))\n",
    "      ) AS loc_cross,\n",
    "      IF((tips/fare >= 0.2), 1, 0) AS tip_bin,\n",
    "      IF(ABS(MOD(FARM_FINGERPRINT(STRING(trip_start_timestamp)), 10)) < 9, 'UNASSIGNED', 'TEST') AS data_split\n",
    "    FROM\n",
    "      taxitrips\n",
    "    LIMIT @LIMIT\n",
    ")\n",
    "'''"
   ]
  },
  {
   "cell_type": "code",
   "execution_count": 29,
   "id": "eb835be7-7c16-4376-9cf2-382e09973f4e",
   "metadata": {},
   "outputs": [],
   "source": [
    "historic_sql_script = historic_sql_script.replace(\n",
    "    '@PROJECT_ID', PROJECT_ID).replace(\n",
    "    '@DATASET', BQ_DATASET_HISTORIC_NAME).replace(\n",
    "    '@TABLE', BQ_HISTORIC_RAW).replace(\n",
    "    '@YEAR', str(HIST_YEAR)).replace(\n",
    "    '@LIMIT', str(SAMPLE_SIZE)).replace(\n",
    "    '@MONTH', str(HIST_MONTH))"
   ]
  },
  {
   "cell_type": "code",
   "execution_count": 30,
   "id": "46bce57e-14be-475f-b5ec-646bb7c0f7f1",
   "metadata": {},
   "outputs": [],
   "source": [
    "bq_client = bigquery.Client(project=PROJECT_ID, location=BQ_LOCATION)\n",
    "job = bq_client.query(historic_sql_script)\n",
    "_ = job.result()"
   ]
  },
  {
   "cell_type": "markdown",
   "id": "93e5be86-b757-4feb-b937-8d087536d394",
   "metadata": {},
   "source": [
    "## Cloud Storage - Artifacts"
   ]
  },
  {
   "cell_type": "markdown",
   "id": "94519545-d44b-428a-9734-5d5413a24e4c",
   "metadata": {},
   "source": [
    "Crearemos buckets en GCS para almacenar distintos tipos de objetos que va produciendo el pipeline a lo largo del camino. En *stage* se guardarán algunos más relevantes, como respaldos de las particiones de train, validación y test para poder acceder más rapidamente y fácilmente, mientras que en *pipelines* habrá mayormente logs y resultados de ejecuciones."
   ]
  },
  {
   "cell_type": "markdown",
   "id": "a9c8f6b7-17f2-461e-a0a1-ecf79b0e21cb",
   "metadata": {},
   "source": [
    "We'll create GCS buckets to store different types of objects that the pipeline produces through its execution. In *stage* there will be some relevant files, such as easily accesible backups of train, validation and test data in order to perform quick reviews if needed, whereas in *pipeline* there will mostly be execution outputs and logs."
   ]
  },
  {
   "cell_type": "code",
   "execution_count": 2,
   "id": "9f96c959-4834-43e5-a817-d7c91dfea381",
   "metadata": {},
   "outputs": [
    {
     "name": "stdout",
     "output_type": "stream",
     "text": [
      "Stage bucket:  vertex-testing-327520-chicago_taxi_stage\n",
      "Pipeline bucket:  vertex-testing-327520-chicago_taxi_pipelines\n"
     ]
    }
   ],
   "source": [
    "STAGE_DATA_BUCKET = f'{PROJECT_ID}-chicago_taxi_stage'\n",
    "PIPELINE_DATA_BUCKET = f'{PROJECT_ID}-chicago_taxi_pipelines'\n",
    "\n",
    "print('Stage bucket: ', STAGE_DATA_BUCKET)\n",
    "print('Pipeline bucket: ', PIPELINE_DATA_BUCKET)\n"
   ]
  },
  {
   "cell_type": "code",
   "execution_count": 3,
   "id": "c0320778-c128-4cc6-87f6-53c86189c434",
   "metadata": {},
   "outputs": [],
   "source": [
    "from google.cloud import storage\n",
    "\n",
    "\n",
    "def create_bucket_class_location(bucket_name, location):\n",
    "    storage_client = storage.Client()\n",
    "\n",
    "    bucket = storage_client.bucket(bucket_name)\n",
    "    new_bucket = storage_client.create_bucket(bucket, location=location)\n",
    "\n",
    "    print(\n",
    "        \"Created bucket {} in {} \".format(\n",
    "            new_bucket.name, new_bucket.location\n",
    "        )\n",
    "    )\n",
    "    return new_bucket"
   ]
  },
  {
   "cell_type": "code",
   "execution_count": 4,
   "id": "00f9a226-8ac0-44bb-a8a3-656f736fd4fc",
   "metadata": {},
   "outputs": [
    {
     "name": "stdout",
     "output_type": "stream",
     "text": [
      "Created bucket vertex-testing-327520-chicago_taxi_stage in US-CENTRAL1 \n"
     ]
    }
   ],
   "source": [
    "bucket_stage = create_bucket_class_location(STAGE_DATA_BUCKET, REGION)"
   ]
  },
  {
   "cell_type": "code",
   "execution_count": 5,
   "id": "c28d3f34-14c4-4f95-9c30-6ca498cb54d8",
   "metadata": {},
   "outputs": [
    {
     "name": "stdout",
     "output_type": "stream",
     "text": [
      "Created bucket vertex-testing-327520-chicago_taxi_pipelines in US-CENTRAL1 \n"
     ]
    }
   ],
   "source": [
    "bucket_pipeline = create_bucket_class_location(PIPELINE_DATA_BUCKET, REGION)"
   ]
  },
  {
   "cell_type": "code",
   "execution_count": null,
   "id": "25151e6a-5d15-4d0a-b1dd-11e83c4b2e96",
   "metadata": {},
   "outputs": [],
   "source": []
  }
 ],
 "metadata": {
  "environment": {
   "name": "tf2-gpu.2-6.m80",
   "type": "gcloud",
   "uri": "gcr.io/deeplearning-platform-release/tf2-gpu.2-6:m80"
  },
  "kernelspec": {
   "display_name": "Python 3",
   "language": "python",
   "name": "python3"
  },
  "language_info": {
   "codemirror_mode": {
    "name": "ipython",
    "version": 3
   },
   "file_extension": ".py",
   "mimetype": "text/x-python",
   "name": "python",
   "nbconvert_exporter": "python",
   "pygments_lexer": "ipython3",
   "version": "3.7.10"
  }
 },
 "nbformat": 4,
 "nbformat_minor": 5
}
